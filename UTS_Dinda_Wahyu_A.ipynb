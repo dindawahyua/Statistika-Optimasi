{
  "nbformat": 4,
  "nbformat_minor": 0,
  "metadata": {
    "colab": {
      "name": "UTS-Dinda Wahyu A.ipynb",
      "provenance": [],
      "collapsed_sections": []
    },
    "kernelspec": {
      "name": "python3",
      "display_name": "Python 3"
    },
    "language_info": {
      "name": "python"
    }
  },
  "cells": [
    {
      "cell_type": "code",
      "metadata": {
        "colab": {
          "base_uri": "https://localhost:8080/"
        },
        "id": "b_mp2Ik1AK5m",
        "outputId": "b6ee99a0-7e5c-4960-d2b7-0a3b880a5fe2"
      },
      "source": [
        "cd /content/drive/MyDrive/Colab Notebooks"
      ],
      "execution_count": null,
      "outputs": [
        {
          "output_type": "stream",
          "text": [
            "/content/drive/MyDrive/Colab Notebooks\n"
          ],
          "name": "stdout"
        }
      ]
    },
    {
      "cell_type": "code",
      "metadata": {
        "colab": {
          "base_uri": "https://localhost:8080/"
        },
        "id": "_-pXUQy5FCAo",
        "outputId": "9d36698c-b6d0-42d2-d7a5-0c8578024c81"
      },
      "source": [
        "ls"
      ],
      "execution_count": null,
      "outputs": [
        {
          "output_type": "stream",
          "text": [
            "'2101202076-Dinda Wahyu Anggraeni.ipynb'   scenes_nn_4_layers.ipynb\n",
            " \u001b[0m\u001b[01;34m3scene\u001b[0m/                                   Simple_ANN_in_Python.ipynb\n",
            " Cancer_Clustering.ipynb                   SLO-main.zip\n",
            " classify_iris_ANN.ipynb                   Untitled0.ipynb\n",
            " data_cancer.csv                           Untitled1.ipynb\n",
            " Iris_Clustering.ipynb                     Untitled2.ipynb\n",
            " README.md                                 Untitled3.ipynb\n"
          ],
          "name": "stdout"
        }
      ]
    },
    {
      "cell_type": "code",
      "metadata": {
        "id": "yGJt-Mq-FHSq"
      },
      "source": [
        "from keras.models import Sequential\n",
        "from keras.layers.core import Activation\n",
        "from keras.layers.core import Flatten\n",
        "from keras.layers.core import Dense\n",
        "from keras.optimizers import Adam\n",
        "from sklearn.preprocessing import LabelBinarizer\n",
        "from sklearn.model_selection import train_test_split\n",
        "from sklearn.metrics import classification_report\n",
        "from PIL import Image\n",
        "from imutils import paths\n",
        "import numpy as np\n",
        "import os"
      ],
      "execution_count": null,
      "outputs": []
    },
    {
      "cell_type": "code",
      "metadata": {
        "colab": {
          "base_uri": "https://localhost:8080/"
        },
        "id": "hwynxK-DGkEU",
        "outputId": "bd5a56c7-e564-4939-aaf8-4567af189e5f"
      },
      "source": [
        "# grab all image paths in the input dataset directory, then initialize\n",
        "# our list of images and corresponding class labels\n",
        "print(\"[INFO] loading images...\")\n",
        "imagePaths = paths.list_images(\"3scene\")\n",
        "data = []\n",
        "labels = []"
      ],
      "execution_count": null,
      "outputs": [
        {
          "output_type": "stream",
          "text": [
            "[INFO] loading images...\n"
          ],
          "name": "stdout"
        }
      ]
    },
    {
      "cell_type": "code",
      "metadata": {
        "id": "PkJvQahDGmHW"
      },
      "source": [
        "# loop over our input images\n",
        "for imagePath in imagePaths:\n",
        "\t# load the input image from disk, resize it to 64x64 pixels, scale\n",
        "\t# the pixel intensities to the range [0, 1], and then update our\n",
        "\t# images list\n",
        "\timage = Image.open(imagePath)\n",
        " #bisa pasang preprocessing disini jika mau, seperti filterring, dll\n",
        "\timage = np.array(image.resize((64, 64))) / 255.0 #normalisasi\n",
        "\tdata.append(image)\n",
        "\n",
        "\t# extract the class label from the file path and update the\n",
        "\t# labels list\n",
        "\tlabel = imagePath.split(os.path.sep)[-2]\n",
        "\tlabels.append(label)"
      ],
      "execution_count": null,
      "outputs": []
    },
    {
      "cell_type": "code",
      "metadata": {
        "colab": {
          "base_uri": "https://localhost:8080/"
        },
        "id": "1jcH3mqEJBWc",
        "outputId": "bbcf0db7-6188-495a-e1a2-3a3308b63044"
      },
      "source": [
        "print(labels)"
      ],
      "execution_count": null,
      "outputs": [
        {
          "output_type": "stream",
          "text": [
            "['coast', 'coast', 'coast', 'coast', 'coast', 'coast', 'coast', 'coast', 'coast', 'coast', 'coast', 'coast', 'coast', 'coast', 'coast', 'coast', 'coast', 'coast', 'coast', 'coast', 'coast', 'coast', 'coast', 'coast', 'coast', 'coast', 'coast', 'coast', 'coast', 'coast', 'coast', 'coast', 'coast', 'coast', 'coast', 'coast', 'coast', 'coast', 'coast', 'coast', 'coast', 'coast', 'coast', 'coast', 'coast', 'coast', 'coast', 'coast', 'coast', 'coast', 'coast', 'coast', 'coast', 'coast', 'coast', 'coast', 'coast', 'coast', 'coast', 'coast', 'coast', 'coast', 'coast', 'coast', 'coast', 'coast', 'coast', 'coast', 'coast', 'coast', 'coast', 'coast', 'coast', 'coast', 'coast', 'coast', 'coast', 'coast', 'coast', 'coast', 'coast', 'coast', 'coast', 'coast', 'coast', 'coast', 'coast', 'coast', 'coast', 'coast', 'coast', 'coast', 'coast', 'coast', 'coast', 'coast', 'coast', 'coast', 'coast', 'coast', 'coast', 'coast', 'coast', 'coast', 'coast', 'coast', 'coast', 'coast', 'coast', 'coast', 'coast', 'coast', 'coast', 'coast', 'coast', 'coast', 'coast', 'coast', 'coast', 'coast', 'coast', 'coast', 'coast', 'coast', 'coast', 'coast', 'coast', 'coast', 'coast', 'coast', 'coast', 'coast', 'coast', 'coast', 'coast', 'coast', 'coast', 'coast', 'coast', 'coast', 'coast', 'coast', 'coast', 'coast', 'coast', 'coast', 'coast', 'coast', 'coast', 'coast', 'coast', 'coast', 'coast', 'coast', 'coast', 'coast', 'coast', 'coast', 'coast', 'coast', 'coast', 'coast', 'coast', 'coast', 'coast', 'coast', 'coast', 'coast', 'coast', 'coast', 'coast', 'coast', 'coast', 'coast', 'coast', 'coast', 'coast', 'coast', 'coast', 'coast', 'coast', 'coast', 'coast', 'coast', 'coast', 'coast', 'coast', 'coast', 'coast', 'coast', 'coast', 'coast', 'coast', 'coast', 'coast', 'coast', 'coast', 'coast', 'coast', 'coast', 'coast', 'coast', 'coast', 'coast', 'coast', 'coast', 'coast', 'coast', 'coast', 'coast', 'coast', 'coast', 'coast', 'coast', 'coast', 'coast', 'coast', 'coast', 'coast', 'coast', 'coast', 'coast', 'coast', 'coast', 'coast', 'coast', 'coast', 'coast', 'coast', 'coast', 'coast', 'coast', 'coast', 'coast', 'coast', 'coast', 'coast', 'coast', 'coast', 'coast', 'coast', 'coast', 'coast', 'coast', 'coast', 'coast', 'coast', 'coast', 'coast', 'coast', 'coast', 'coast', 'coast', 'coast', 'coast', 'coast', 'coast', 'coast', 'coast', 'coast', 'coast', 'coast', 'coast', 'coast', 'coast', 'coast', 'coast', 'coast', 'coast', 'coast', 'coast', 'coast', 'coast', 'coast', 'coast', 'coast', 'coast', 'coast', 'coast', 'coast', 'coast', 'coast', 'coast', 'coast', 'coast', 'coast', 'coast', 'coast', 'coast', 'coast', 'coast', 'coast', 'coast', 'coast', 'coast', 'coast', 'coast', 'coast', 'coast', 'coast', 'coast', 'coast', 'coast', 'coast', 'coast', 'coast', 'coast', 'coast', 'coast', 'coast', 'coast', 'coast', 'coast', 'coast', 'coast', 'coast', 'coast', 'coast', 'coast', 'coast', 'coast', 'coast', 'coast', 'coast', 'coast', 'coast', 'coast', 'coast', 'coast', 'coast', 'coast', 'coast', 'coast', 'coast', 'coast', 'coast', 'coast', 'coast', 'coast', 'coast', 'coast', 'coast', 'coast', 'coast', 'coast', 'coast', 'coast', 'coast', 'coast', 'coast', 'coast', 'coast', 'coast', 'coast', 'coast', 'coast', 'coast', 'coast', 'coast', 'coast', 'forest', 'forest', 'forest', 'forest', 'forest', 'forest', 'forest', 'forest', 'forest', 'forest', 'forest', 'forest', 'forest', 'forest', 'forest', 'forest', 'forest', 'forest', 'forest', 'forest', 'forest', 'forest', 'forest', 'forest', 'forest', 'forest', 'forest', 'forest', 'forest', 'forest', 'forest', 'forest', 'forest', 'forest', 'forest', 'forest', 'forest', 'forest', 'forest', 'forest', 'forest', 'forest', 'forest', 'forest', 'forest', 'forest', 'forest', 'forest', 'forest', 'forest', 'forest', 'forest', 'forest', 'forest', 'forest', 'forest', 'forest', 'forest', 'forest', 'forest', 'forest', 'forest', 'forest', 'forest', 'forest', 'forest', 'forest', 'forest', 'forest', 'forest', 'forest', 'forest', 'forest', 'forest', 'forest', 'forest', 'forest', 'forest', 'forest', 'forest', 'forest', 'forest', 'forest', 'forest', 'forest', 'forest', 'forest', 'forest', 'forest', 'forest', 'forest', 'forest', 'forest', 'forest', 'forest', 'forest', 'forest', 'forest', 'forest', 'forest', 'forest', 'forest', 'forest', 'forest', 'forest', 'forest', 'forest', 'forest', 'forest', 'forest', 'forest', 'forest', 'forest', 'forest', 'forest', 'forest', 'forest', 'forest', 'forest', 'forest', 'forest', 'forest', 'forest', 'forest', 'forest', 'forest', 'forest', 'forest', 'forest', 'forest', 'forest', 'forest', 'forest', 'forest', 'forest', 'forest', 'forest', 'forest', 'forest', 'forest', 'forest', 'forest', 'forest', 'forest', 'forest', 'forest', 'forest', 'forest', 'forest', 'forest', 'forest', 'forest', 'forest', 'forest', 'forest', 'forest', 'forest', 'forest', 'forest', 'forest', 'forest', 'forest', 'forest', 'forest', 'forest', 'forest', 'forest', 'forest', 'forest', 'forest', 'forest', 'forest', 'forest', 'forest', 'forest', 'forest', 'forest', 'forest', 'forest', 'forest', 'forest', 'forest', 'forest', 'forest', 'forest', 'forest', 'forest', 'forest', 'forest', 'forest', 'forest', 'forest', 'forest', 'forest', 'forest', 'forest', 'forest', 'forest', 'forest', 'forest', 'forest', 'forest', 'forest', 'forest', 'forest', 'forest', 'forest', 'forest', 'forest', 'forest', 'forest', 'forest', 'forest', 'forest', 'forest', 'forest', 'forest', 'forest', 'forest', 'forest', 'forest', 'forest', 'forest', 'forest', 'forest', 'forest', 'forest', 'forest', 'forest', 'forest', 'forest', 'forest', 'forest', 'forest', 'forest', 'forest', 'forest', 'forest', 'forest', 'forest', 'forest', 'forest', 'forest', 'forest', 'forest', 'forest', 'forest', 'forest', 'forest', 'forest', 'forest', 'forest', 'forest', 'forest', 'forest', 'forest', 'forest', 'forest', 'forest', 'forest', 'forest', 'forest', 'forest', 'forest', 'forest', 'forest', 'forest', 'forest', 'forest', 'forest', 'forest', 'forest', 'forest', 'forest', 'forest', 'forest', 'forest', 'forest', 'forest', 'forest', 'forest', 'forest', 'forest', 'forest', 'forest', 'forest', 'forest', 'forest', 'forest', 'forest', 'forest', 'forest', 'forest', 'forest', 'forest', 'forest', 'forest', 'forest', 'forest', 'forest', 'forest', 'forest', 'forest', 'forest', 'forest', 'forest', 'forest', 'forest', 'forest', 'forest', 'forest', 'forest', 'forest', 'forest', 'forest', 'forest', 'forest', 'forest', 'forest', 'forest', 'forest', 'forest', 'forest', 'forest', 'forest', 'forest', 'forest', 'forest', 'highway', 'highway', 'highway', 'highway', 'highway', 'highway', 'highway', 'highway', 'highway', 'highway', 'highway', 'highway', 'highway', 'highway', 'highway', 'highway', 'highway', 'highway', 'highway', 'highway', 'highway', 'highway', 'highway', 'highway', 'highway', 'highway', 'highway', 'highway', 'highway', 'highway', 'highway', 'highway', 'highway', 'highway', 'highway', 'highway', 'highway', 'highway', 'highway', 'highway', 'highway', 'highway', 'highway', 'highway', 'highway', 'highway', 'highway', 'highway', 'highway', 'highway', 'highway', 'highway', 'highway', 'highway', 'highway', 'highway', 'highway', 'highway', 'highway', 'highway', 'highway', 'highway', 'highway', 'highway', 'highway', 'highway', 'highway', 'highway', 'highway', 'highway', 'highway', 'highway', 'highway', 'highway', 'highway', 'highway', 'highway', 'highway', 'highway', 'highway', 'highway', 'highway', 'highway', 'highway', 'highway', 'highway', 'highway', 'highway', 'highway', 'highway', 'highway', 'highway', 'highway', 'highway', 'highway', 'highway', 'highway', 'highway', 'highway', 'highway', 'highway', 'highway', 'highway', 'highway', 'highway', 'highway', 'highway', 'highway', 'highway', 'highway', 'highway', 'highway', 'highway', 'highway', 'highway', 'highway', 'highway', 'highway', 'highway', 'highway', 'highway', 'highway', 'highway', 'highway', 'highway', 'highway', 'highway', 'highway', 'highway', 'highway', 'highway', 'highway', 'highway', 'highway', 'highway', 'highway', 'highway', 'highway', 'highway', 'highway', 'highway', 'highway', 'highway', 'highway', 'highway', 'highway', 'highway', 'highway', 'highway', 'highway', 'highway', 'highway', 'highway', 'highway', 'highway', 'highway', 'highway', 'highway', 'highway', 'highway', 'highway', 'highway', 'highway', 'highway', 'highway', 'highway', 'highway', 'highway', 'highway', 'highway', 'highway', 'highway', 'highway', 'highway', 'highway', 'highway', 'highway', 'highway', 'highway', 'highway', 'highway', 'highway', 'highway', 'highway', 'highway', 'highway', 'highway', 'highway', 'highway', 'highway', 'highway', 'highway', 'highway', 'highway', 'highway', 'highway', 'highway', 'highway', 'highway', 'highway', 'highway', 'highway', 'highway', 'highway', 'highway', 'highway', 'highway', 'highway', 'highway', 'highway', 'highway', 'highway', 'highway', 'highway', 'highway', 'highway', 'highway', 'highway', 'highway', 'highway', 'highway', 'highway', 'highway', 'highway', 'highway', 'highway', 'highway', 'highway', 'highway', 'highway', 'highway', 'highway', 'highway', 'highway', 'highway', 'highway', 'highway', 'highway', 'highway', 'highway', 'highway', 'highway', 'highway', 'highway', 'highway', 'highway', 'highway', 'highway', 'highway', 'highway', 'highway', 'highway', 'highway', 'highway', 'highway', 'highway', 'highway', 'highway', 'highway', 'highway']\n"
          ],
          "name": "stdout"
        }
      ]
    },
    {
      "cell_type": "code",
      "metadata": {
        "id": "et5bpQ1EJmvg"
      },
      "source": [
        "lb = LabelBinarizer()\n",
        "labels = lb.fit_transform(labels)"
      ],
      "execution_count": null,
      "outputs": []
    },
    {
      "cell_type": "code",
      "metadata": {
        "colab": {
          "base_uri": "https://localhost:8080/"
        },
        "id": "fCADYa6_KlfP",
        "outputId": "cb8f33c5-1117-47c0-c459-89b1ef063bf6"
      },
      "source": [
        "print(labels)"
      ],
      "execution_count": null,
      "outputs": [
        {
          "output_type": "stream",
          "text": [
            "[[1 0 0]\n",
            " [1 0 0]\n",
            " [1 0 0]\n",
            " ...\n",
            " [0 0 1]\n",
            " [0 0 1]\n",
            " [0 0 1]]\n"
          ],
          "name": "stdout"
        }
      ]
    },
    {
      "cell_type": "code",
      "metadata": {
        "colab": {
          "base_uri": "https://localhost:8080/"
        },
        "id": "9HXTlCOyKo4A",
        "outputId": "cd309e34-1c8d-44be-ea41-d60d9ab1d4a5"
      },
      "source": [
        "print(np.array(data).shape)"
      ],
      "execution_count": null,
      "outputs": [
        {
          "output_type": "stream",
          "text": [
            "(948, 64, 64, 3)\n"
          ],
          "name": "stdout"
        }
      ]
    },
    {
      "cell_type": "code",
      "metadata": {
        "colab": {
          "base_uri": "https://localhost:8080/"
        },
        "id": "jxAFQc0eNOkg",
        "outputId": "38baf3e4-b7d4-4016-f88a-ec59f1227a8b"
      },
      "source": [
        "(trainX, testX, trainY, testY) = train_test_split(np.array(data),\tnp.array(labels), test_size=0.25)\n",
        "print(trainX.shape)\n",
        "print(testX.shape)"
      ],
      "execution_count": null,
      "outputs": [
        {
          "output_type": "stream",
          "text": [
            "(711, 64, 64, 3)\n",
            "(237, 64, 64, 3)\n"
          ],
          "name": "stdout"
        }
      ]
    },
    {
      "cell_type": "code",
      "metadata": {
        "id": "4EuOSveYPQ1R"
      },
      "source": [
        "from keras.models import Sequential\n",
        "from keras.layers.core import Flatten\n",
        "from keras.layers.core import Dense, Dropout\n",
        "\n",
        "model = Sequential(\n",
        "    [\n",
        "        Flatten(input_shape=(64*64*3,)),\n",
        "        Dense(256, activation=\"relu\"),\n",
        "        Dense(128, activation=\"relu\"),\n",
        "        Dropout(0.2),\n",
        "        Dense(128, activation=\"relu\"),\n",
        "        Dense(64, activation=\"relu\"),\n",
        "        Dropout(0.2),\n",
        "        Dense(64, activation=\"relu\"),\n",
        "        Dense(32, activation=\"relu\"),\n",
        "        Dropout(0.2),\n",
        "        Dense(32, activation=\"relu\"),\n",
        "        Dense(16, activation=\"relu\"),\n",
        "        Dense(3, activation = \"softmax\"),\n",
        "    ]\n",
        ")"
      ],
      "execution_count": null,
      "outputs": []
    },
    {
      "cell_type": "code",
      "metadata": {
        "colab": {
          "base_uri": "https://localhost:8080/"
        },
        "id": "4ZnaBALNQ_34",
        "outputId": "98cb7c6b-6a5a-44d0-f11a-fcdd3358f988"
      },
      "source": [
        "model.summary()"
      ],
      "execution_count": null,
      "outputs": [
        {
          "output_type": "stream",
          "text": [
            "Model: \"sequential_35\"\n",
            "_________________________________________________________________\n",
            "Layer (type)                 Output Shape              Param #   \n",
            "=================================================================\n",
            "flatten_37 (Flatten)         (None, 12288)             0         \n",
            "_________________________________________________________________\n",
            "dense_295 (Dense)            (None, 256)               3145984   \n",
            "_________________________________________________________________\n",
            "dense_296 (Dense)            (None, 128)               32896     \n",
            "_________________________________________________________________\n",
            "dropout_100 (Dropout)        (None, 128)               0         \n",
            "_________________________________________________________________\n",
            "dense_297 (Dense)            (None, 128)               16512     \n",
            "_________________________________________________________________\n",
            "dense_298 (Dense)            (None, 64)                8256      \n",
            "_________________________________________________________________\n",
            "dropout_101 (Dropout)        (None, 64)                0         \n",
            "_________________________________________________________________\n",
            "dense_299 (Dense)            (None, 64)                4160      \n",
            "_________________________________________________________________\n",
            "dense_300 (Dense)            (None, 32)                2080      \n",
            "_________________________________________________________________\n",
            "dropout_102 (Dropout)        (None, 32)                0         \n",
            "_________________________________________________________________\n",
            "dense_301 (Dense)            (None, 32)                1056      \n",
            "_________________________________________________________________\n",
            "dense_302 (Dense)            (None, 16)                528       \n",
            "_________________________________________________________________\n",
            "dense_303 (Dense)            (None, 3)                 51        \n",
            "=================================================================\n",
            "Total params: 3,211,523\n",
            "Trainable params: 3,211,523\n",
            "Non-trainable params: 0\n",
            "_________________________________________________________________\n"
          ],
          "name": "stdout"
        }
      ]
    },
    {
      "cell_type": "code",
      "metadata": {
        "colab": {
          "base_uri": "https://localhost:8080/"
        },
        "id": "SNRJSGJbRQ_w",
        "outputId": "415bced8-715c-4cbb-dfde-0a07a7674950"
      },
      "source": [
        "# train the model using the Adam optimizer\n",
        "print(\"[INFO] training network...\")\n",
        "opt = Adam(lr=1e-3, decay=1e-3)\n",
        "model.compile(loss=\"categorical_crossentropy\", optimizer=opt,\n",
        "\tmetrics=[\"accuracy\"])\n",
        "H = model.fit(trainX, trainY, validation_data=(testX, testY), epochs=50, batch_size=32)"
      ],
      "execution_count": null,
      "outputs": [
        {
          "output_type": "stream",
          "text": [
            "[INFO] training network...\n",
            "Epoch 1/50\n",
            "WARNING:tensorflow:Model was constructed with shape (None, 12288) for input KerasTensor(type_spec=TensorSpec(shape=(None, 12288), dtype=tf.float32, name='flatten_37_input'), name='flatten_37_input', description=\"created by layer 'flatten_37_input'\"), but it was called on an input with incompatible shape (None, 64, 64, 3).\n",
            "WARNING:tensorflow:Model was constructed with shape (None, 12288) for input KerasTensor(type_spec=TensorSpec(shape=(None, 12288), dtype=tf.float32, name='flatten_37_input'), name='flatten_37_input', description=\"created by layer 'flatten_37_input'\"), but it was called on an input with incompatible shape (None, 64, 64, 3).\n",
            "21/23 [==========================>...] - ETA: 0s - loss: 1.1833 - accuracy: 0.2990WARNING:tensorflow:Model was constructed with shape (None, 12288) for input KerasTensor(type_spec=TensorSpec(shape=(None, 12288), dtype=tf.float32, name='flatten_37_input'), name='flatten_37_input', description=\"created by layer 'flatten_37_input'\"), but it was called on an input with incompatible shape (None, 64, 64, 3).\n",
            "23/23 [==============================] - 2s 36ms/step - loss: 1.1831 - accuracy: 0.3000 - val_loss: 1.0747 - val_accuracy: 0.3924\n",
            "Epoch 2/50\n",
            "23/23 [==============================] - 1s 26ms/step - loss: 1.0956 - accuracy: 0.3586 - val_loss: 1.0751 - val_accuracy: 0.3966\n",
            "Epoch 3/50\n",
            "23/23 [==============================] - 1s 26ms/step - loss: 1.0849 - accuracy: 0.3982 - val_loss: 1.0849 - val_accuracy: 0.2743\n",
            "Epoch 4/50\n",
            "23/23 [==============================] - 1s 26ms/step - loss: 1.0748 - accuracy: 0.3709 - val_loss: 1.0602 - val_accuracy: 0.4008\n",
            "Epoch 5/50\n",
            "23/23 [==============================] - 1s 26ms/step - loss: 1.0758 - accuracy: 0.3922 - val_loss: 1.0155 - val_accuracy: 0.4557\n",
            "Epoch 6/50\n",
            "23/23 [==============================] - 1s 26ms/step - loss: 1.0343 - accuracy: 0.4469 - val_loss: 0.9044 - val_accuracy: 0.5612\n",
            "Epoch 7/50\n",
            "23/23 [==============================] - 1s 27ms/step - loss: 0.9560 - accuracy: 0.5124 - val_loss: 0.8657 - val_accuracy: 0.5316\n",
            "Epoch 8/50\n",
            "23/23 [==============================] - 1s 27ms/step - loss: 0.8989 - accuracy: 0.5601 - val_loss: 0.8752 - val_accuracy: 0.5865\n",
            "Epoch 9/50\n",
            "23/23 [==============================] - 1s 26ms/step - loss: 0.9691 - accuracy: 0.5079 - val_loss: 0.8519 - val_accuracy: 0.5781\n",
            "Epoch 10/50\n",
            "23/23 [==============================] - 1s 26ms/step - loss: 0.8369 - accuracy: 0.5895 - val_loss: 0.9151 - val_accuracy: 0.5359\n",
            "Epoch 11/50\n",
            "23/23 [==============================] - 1s 26ms/step - loss: 0.8725 - accuracy: 0.5518 - val_loss: 0.9150 - val_accuracy: 0.4895\n",
            "Epoch 12/50\n",
            "23/23 [==============================] - 1s 27ms/step - loss: 0.8466 - accuracy: 0.5902 - val_loss: 0.8141 - val_accuracy: 0.5527\n",
            "Epoch 13/50\n",
            "23/23 [==============================] - 1s 26ms/step - loss: 0.7961 - accuracy: 0.5869 - val_loss: 0.8166 - val_accuracy: 0.5949\n",
            "Epoch 14/50\n",
            "23/23 [==============================] - 1s 26ms/step - loss: 0.7554 - accuracy: 0.6095 - val_loss: 0.8149 - val_accuracy: 0.5612\n",
            "Epoch 15/50\n",
            "23/23 [==============================] - 1s 27ms/step - loss: 0.6987 - accuracy: 0.6418 - val_loss: 0.8226 - val_accuracy: 0.5823\n",
            "Epoch 16/50\n",
            "23/23 [==============================] - 1s 26ms/step - loss: 0.6932 - accuracy: 0.6716 - val_loss: 0.8048 - val_accuracy: 0.5992\n",
            "Epoch 17/50\n",
            "23/23 [==============================] - 1s 26ms/step - loss: 0.6961 - accuracy: 0.6702 - val_loss: 0.7152 - val_accuracy: 0.7300\n",
            "Epoch 18/50\n",
            "23/23 [==============================] - 1s 27ms/step - loss: 0.6526 - accuracy: 0.6834 - val_loss: 0.7265 - val_accuracy: 0.6920\n",
            "Epoch 19/50\n",
            "23/23 [==============================] - 1s 26ms/step - loss: 0.6280 - accuracy: 0.7046 - val_loss: 0.7739 - val_accuracy: 0.6751\n",
            "Epoch 20/50\n",
            "23/23 [==============================] - 1s 26ms/step - loss: 0.6509 - accuracy: 0.7164 - val_loss: 0.7476 - val_accuracy: 0.6371\n",
            "Epoch 21/50\n",
            "23/23 [==============================] - 1s 27ms/step - loss: 0.6163 - accuracy: 0.7250 - val_loss: 0.7392 - val_accuracy: 0.6624\n",
            "Epoch 22/50\n",
            "23/23 [==============================] - 1s 26ms/step - loss: 0.5481 - accuracy: 0.7677 - val_loss: 0.6550 - val_accuracy: 0.7722\n",
            "Epoch 23/50\n",
            "23/23 [==============================] - 1s 26ms/step - loss: 0.5241 - accuracy: 0.7808 - val_loss: 0.6663 - val_accuracy: 0.7932\n",
            "Epoch 24/50\n",
            "23/23 [==============================] - 1s 26ms/step - loss: 0.5007 - accuracy: 0.8086 - val_loss: 0.6382 - val_accuracy: 0.7764\n",
            "Epoch 25/50\n",
            "23/23 [==============================] - 1s 26ms/step - loss: 0.4520 - accuracy: 0.8371 - val_loss: 0.5952 - val_accuracy: 0.7806\n",
            "Epoch 26/50\n",
            "23/23 [==============================] - 1s 26ms/step - loss: 0.5085 - accuracy: 0.8225 - val_loss: 0.6633 - val_accuracy: 0.7553\n",
            "Epoch 27/50\n",
            "23/23 [==============================] - 1s 26ms/step - loss: 0.4679 - accuracy: 0.7825 - val_loss: 0.6475 - val_accuracy: 0.7553\n",
            "Epoch 28/50\n",
            "23/23 [==============================] - 1s 27ms/step - loss: 0.4330 - accuracy: 0.8424 - val_loss: 0.6776 - val_accuracy: 0.7468\n",
            "Epoch 29/50\n",
            "23/23 [==============================] - 1s 27ms/step - loss: 0.4522 - accuracy: 0.8276 - val_loss: 0.6039 - val_accuracy: 0.7848\n",
            "Epoch 30/50\n",
            "23/23 [==============================] - 1s 26ms/step - loss: 0.3886 - accuracy: 0.8464 - val_loss: 0.6605 - val_accuracy: 0.7595\n",
            "Epoch 31/50\n",
            "23/23 [==============================] - 1s 27ms/step - loss: 0.4249 - accuracy: 0.8501 - val_loss: 0.6213 - val_accuracy: 0.7848\n",
            "Epoch 32/50\n",
            "23/23 [==============================] - 1s 26ms/step - loss: 0.3798 - accuracy: 0.8796 - val_loss: 0.5947 - val_accuracy: 0.7975\n",
            "Epoch 33/50\n",
            "23/23 [==============================] - 1s 27ms/step - loss: 0.3149 - accuracy: 0.8695 - val_loss: 0.6889 - val_accuracy: 0.7679\n",
            "Epoch 34/50\n",
            "23/23 [==============================] - 1s 26ms/step - loss: 0.3463 - accuracy: 0.8802 - val_loss: 0.6859 - val_accuracy: 0.7932\n",
            "Epoch 35/50\n",
            "23/23 [==============================] - 1s 27ms/step - loss: 0.3315 - accuracy: 0.8790 - val_loss: 0.7332 - val_accuracy: 0.7932\n",
            "Epoch 36/50\n",
            "23/23 [==============================] - 1s 27ms/step - loss: 0.3250 - accuracy: 0.8848 - val_loss: 0.6963 - val_accuracy: 0.7511\n",
            "Epoch 37/50\n",
            "23/23 [==============================] - 1s 26ms/step - loss: 0.3345 - accuracy: 0.8842 - val_loss: 0.6346 - val_accuracy: 0.8059\n",
            "Epoch 38/50\n",
            "23/23 [==============================] - 1s 26ms/step - loss: 0.4239 - accuracy: 0.8389 - val_loss: 0.6282 - val_accuracy: 0.8059\n",
            "Epoch 39/50\n",
            "23/23 [==============================] - 1s 27ms/step - loss: 0.3191 - accuracy: 0.8961 - val_loss: 0.7354 - val_accuracy: 0.7722\n",
            "Epoch 40/50\n",
            "23/23 [==============================] - 1s 26ms/step - loss: 0.3163 - accuracy: 0.8731 - val_loss: 0.7591 - val_accuracy: 0.7595\n",
            "Epoch 41/50\n",
            "23/23 [==============================] - 1s 26ms/step - loss: 0.3546 - accuracy: 0.8705 - val_loss: 0.7496 - val_accuracy: 0.7890\n",
            "Epoch 42/50\n",
            "23/23 [==============================] - 1s 26ms/step - loss: 0.3106 - accuracy: 0.9006 - val_loss: 0.7713 - val_accuracy: 0.7679\n",
            "Epoch 43/50\n",
            "23/23 [==============================] - 1s 26ms/step - loss: 0.2480 - accuracy: 0.9177 - val_loss: 0.6839 - val_accuracy: 0.8059\n",
            "Epoch 44/50\n",
            "23/23 [==============================] - 1s 26ms/step - loss: 0.3100 - accuracy: 0.8826 - val_loss: 0.7697 - val_accuracy: 0.7975\n",
            "Epoch 45/50\n",
            "23/23 [==============================] - 1s 26ms/step - loss: 0.4947 - accuracy: 0.8151 - val_loss: 0.6537 - val_accuracy: 0.7848\n",
            "Epoch 46/50\n",
            "23/23 [==============================] - 1s 27ms/step - loss: 0.2735 - accuracy: 0.9080 - val_loss: 0.7255 - val_accuracy: 0.7595\n",
            "Epoch 47/50\n",
            "23/23 [==============================] - 1s 26ms/step - loss: 0.2722 - accuracy: 0.9147 - val_loss: 0.6772 - val_accuracy: 0.8017\n",
            "Epoch 48/50\n",
            "23/23 [==============================] - 1s 26ms/step - loss: 0.2686 - accuracy: 0.9041 - val_loss: 0.6474 - val_accuracy: 0.7553\n",
            "Epoch 49/50\n",
            "23/23 [==============================] - 1s 27ms/step - loss: 0.2984 - accuracy: 0.9019 - val_loss: 0.6252 - val_accuracy: 0.7975\n",
            "Epoch 50/50\n",
            "23/23 [==============================] - 1s 26ms/step - loss: 0.2492 - accuracy: 0.9086 - val_loss: 0.6609 - val_accuracy: 0.8017\n"
          ],
          "name": "stdout"
        }
      ]
    },
    {
      "cell_type": "code",
      "metadata": {
        "colab": {
          "base_uri": "https://localhost:8080/",
          "height": 590
        },
        "id": "4TmxHh3BSw2D",
        "outputId": "b28e4fbe-71d7-4663-96bb-0f2cded19a75"
      },
      "source": [
        "import matplotlib.pyplot as plt\n",
        "\n",
        "print(H.history.keys())\n",
        "# summarize history for accuracy\n",
        "plt.plot(H.history['accuracy'])\n",
        "plt.plot(H.history['val_accuracy'])\n",
        "plt.title('model accuracy')\n",
        "plt.ylabel('accuracy')\n",
        "plt.xlabel('epoch')\n",
        "plt.legend(['train', 'test'], loc='upper left')\n",
        "plt.show()\n",
        "# summarize history for loss\n",
        "plt.plot(H.history['loss'])\n",
        "plt.plot(H.history['val_loss'])\n",
        "plt.title('model loss')\n",
        "plt.ylabel('loss')\n",
        "plt.xlabel('epoch')\n",
        "plt.legend(['train', 'test'], loc='upper left')\n",
        "plt.show()"
      ],
      "execution_count": null,
      "outputs": [
        {
          "output_type": "stream",
          "text": [
            "dict_keys(['loss', 'accuracy', 'val_loss', 'val_accuracy'])\n"
          ],
          "name": "stdout"
        },
        {
          "output_type": "display_data",
          "data": {
            "image/png": "[encoded data removed]",
            "text/plain": [
              "<Figure size 432x288 with 1 Axes>"
            ]
          },
          "metadata": {
            "tags": [],
            "needs_background": "light"
          }
        },
        {
          "output_type": "display_data",
          "data": {
            "image/png": "[encoded data removed]",
            "text/plain": [
              "<Figure size 432x288 with 1 Axes>"
            ]
          },
          "metadata": {
            "tags": [],
            "needs_background": "light"
          }
        }
      ]
    },
    {
      "cell_type": "code",
      "metadata": {
        "colab": {
          "base_uri": "https://localhost:8080/"
        },
        "id": "MzTFYreVTpo1",
        "outputId": "8bbddb3f-d93a-4eef-db9a-a62c627e41da"
      },
      "source": [
        "# evaluate the network\n",
        "print(\"[INFO] evaluating network...\")\n",
        "predictions = model.predict(testX, batch_size=32)\n",
        "print(classification_report(testY.argmax(axis=1),\n",
        "\tpredictions.argmax(axis=1), target_names=lb.classes_))"
      ],
      "execution_count": null,
      "outputs": [
        {
          "output_type": "stream",
          "text": [
            "[INFO] evaluating network...\n",
            "WARNING:tensorflow:Model was constructed with shape (None, 12288) for input KerasTensor(type_spec=TensorSpec(shape=(None, 12288), dtype=tf.float32, name='flatten_37_input'), name='flatten_37_input', description=\"created by layer 'flatten_37_input'\"), but it was called on an input with incompatible shape (None, 64, 64, 3).\n",
            "              precision    recall  f1-score   support\n",
            "\n",
            "       coast       0.75      0.86      0.80        95\n",
            "      forest       0.89      0.74      0.81        78\n",
            "     highway       0.81      0.78      0.79        64\n",
            "\n",
            "    accuracy                           0.80       237\n",
            "   macro avg       0.81      0.80      0.80       237\n",
            "weighted avg       0.81      0.80      0.80       237\n",
            "\n"
          ],
          "name": "stdout"
        }
      ]
    },
    {
      "cell_type": "code",
      "metadata": {
        "id": "Y5bpuehnVuw-"
      },
      "source": [
        ""
      ],
      "execution_count": null,
      "outputs": []
    }
  ]
}